{
 "cells": [
  {
   "cell_type": "markdown",
   "metadata": {},
   "source": [
    "# Convert First-Order Network Data\n",
    "Making InfoMap work on first order networks for comparison."
   ]
  },
  {
   "cell_type": "code",
   "execution_count": 1,
   "metadata": {},
   "outputs": [],
   "source": [
    "import signac\n",
    "import pandas as pd\n",
    "\n",
    "project = signac.get_project()\n",
    "job = project.find_jobs({\"year\": 2011, \"quarter\": 1}).next()"
   ]
  },
  {
   "cell_type": "code",
   "execution_count": 2,
   "metadata": {},
   "outputs": [],
   "source": [
    "first_order_network = pd.read_csv(job.fn('all_edges.tsv'), sep='\\t',\n",
    "                                  header=None, names=['source', 'dest', 'weight'])"
   ]
  },
  {
   "cell_type": "code",
   "execution_count": 3,
   "metadata": {},
   "outputs": [],
   "source": [
    "def first_order_prepare_infomap(job):\n",
    "    import json\n",
    "    from collections import OrderedDict\n",
    "    state_nodes = OrderedDict()\n",
    "    edges = set()\n",
    "    first_order_network = pd.read_csv(job.fn('all_edges.tsv'), sep='\\t',\n",
    "                                      header=None, names=['source', 'dest', 'weight'])\n",
    "\n",
    "    unique_ids = list(map(int, sorted(set(first_order_network['source'].unique()).union(\n",
    "        set(first_order_network['dest'].unique())))))\n",
    "\n",
    "    keys = list(range(1, len(unique_ids)+1))\n",
    "    vertices = OrderedDict({k: v for (k, v) in zip(unique_ids, keys)})\n",
    "\n",
    "    # Save the mapping to the arbitrary keys used for InfoMap compatibility\n",
    "    with open(job.fn('first_order_infomap_vertex_keys.json'), 'w') as f:\n",
    "        json.dump(vertices, f)\n",
    "    with open(job.fn('first_order_infomap_key_vertices.json'), 'w') as f:\n",
    "        json.dump({v: k for k, v in vertices.items()}, f)\n",
    "\n",
    "    with open(job.fn('first_order_infomap.txt'), 'w') as f:\n",
    "        # Written in \"link list format\" for InfoMap\n",
    "        for row in first_order_network.itertuples():\n",
    "            f.write('{} {} {}\\n'.format(vertices[row.source], vertices[row.dest], row.weight))"
   ]
  },
  {
   "cell_type": "code",
   "execution_count": 4,
   "metadata": {},
   "outputs": [],
   "source": [
    "first_order_prepare_infomap(job)"
   ]
  }
 ],
 "metadata": {
  "kernelspec": {
   "display_name": "Python 3",
   "language": "python",
   "name": "python3"
  },
  "language_info": {
   "codemirror_mode": {
    "name": "ipython",
    "version": 3
   },
   "file_extension": ".py",
   "mimetype": "text/x-python",
   "name": "python",
   "nbconvert_exporter": "python",
   "pygments_lexer": "ipython3",
   "version": "3.6.7"
  }
 },
 "nbformat": 4,
 "nbformat_minor": 2
}
