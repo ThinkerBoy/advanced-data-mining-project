{
 "cells": [
  {
   "cell_type": "markdown",
   "metadata": {},
   "source": [
    "# IATA Extraction\n",
    "This notebook fetches the mapping from airport ID to city, state, and three letter IATA code."
   ]
  },
  {
   "cell_type": "code",
   "execution_count": 1,
   "metadata": {},
   "outputs": [],
   "source": [
    "import numpy as np\n",
    "import pandas as pd\n",
    "import matplotlib.pyplot as plt\n",
    "import signac\n",
    "from tqdm import tqdm\n",
    "\n",
    "# Show more columns so we can see everything\n",
    "pd.options.display.max_columns = 50\n",
    "\n",
    "project = signac.get_project()"
   ]
  },
  {
   "cell_type": "code",
   "execution_count": 2,
   "metadata": {},
   "outputs": [],
   "source": [
    "dtypes = {\n",
    "    'ItinID': np.int64,\n",
    "    'MktID': np.int64,\n",
    "    'SeqNum': np.int8,\n",
    "    'Coupons': np.int8,\n",
    "    'Year': np.int16,\n",
    "    'OriginAirportID': np.int16,\n",
    "    'OriginAirportSeqID': np.int32,\n",
    "    'OriginCityMarketID': np.int32,\n",
    "    'Quarter': np.int8,\n",
    "    'Origin': str,\n",
    "    'OriginCountry': str,\n",
    "    'OriginStateFips': np.int8,\n",
    "    'OriginState': str,\n",
    "    'OriginStateName': str,\n",
    "    'OriginWac': np.int8,\n",
    "    'DestAirportID': np.int16,\n",
    "    'DestAirportSeqID': np.int32,\n",
    "    'DestCityMarketID': np.int32,\n",
    "    'Dest': str,\n",
    "    'DestCountry': str,\n",
    "    'DestStateFips': np.int8,\n",
    "    'DestState': str,\n",
    "    'DestStateName': str,\n",
    "    'DestWac': np.int8,\n",
    "    'Break': str,\n",
    "    'CouponType': str,\n",
    "    'TkCarrier': str,\n",
    "    'OpCarrier': str,\n",
    "    'RPCarrier': str,\n",
    "    'Passengers': np.float32,\n",
    "    'FareClass': str,\n",
    "    'Distance': np.float32,\n",
    "    'DistanceGroup': np.int8,\n",
    "    'ItinGeoType': np.int8,\n",
    "    'CouponGeoType': np.int8}"
   ]
  },
  {
   "cell_type": "code",
   "execution_count": 3,
   "metadata": {},
   "outputs": [],
   "source": [
    "job = project.find_jobs({\"year\": 2011, \"quarter\": 1}).next()\n",
    "cols = ['OriginAirportID', 'Origin', 'DestAirportID', 'Dest']\n",
    "dtypes = {c: dtypes[c] for c in cols}\n",
    "chunksize = 100000\n",
    "reader = pd.read_csv(job.fn('Coupon.csv'), usecols=dtypes.keys(), dtype=dtypes, chunksize=chunksize)"
   ]
  },
  {
   "cell_type": "code",
   "execution_count": 4,
   "metadata": {},
   "outputs": [
    {
     "name": "stderr",
     "output_type": "stream",
     "text": [
      "100%|██████████| 86/86 [00:52<00:00,  1.71it/s]\n"
     ]
    }
   ],
   "source": [
    "airport_codes = {}\n",
    "for chunk in tqdm(reader, total=int(np.ceil(job.doc['Coupon']['shape'][0]/chunksize))):\n",
    "    for i, origin_id, origin_iata, dest_id, dest_iata in chunk.itertuples():\n",
    "        if origin_id not in airport_codes:\n",
    "            airport_codes[origin_id] = origin_iata\n",
    "        if dest_id not in airport_codes:\n",
    "            airport_codes[dest_id] = dest_iata"
   ]
  },
  {
   "cell_type": "code",
   "execution_count": 5,
   "metadata": {},
   "outputs": [],
   "source": [
    "airport_df = pd.DataFrame.from_dict(airport_codes, orient='index').sort_index()\n",
    "airport_df.index.name = 'ID'\n",
    "airport_df.columns = ['IATA']\n",
    "airport_df.to_csv(job.fn('airport_codes.csv'))"
   ]
  }
 ],
 "metadata": {
  "kernelspec": {
   "display_name": "Python 3",
   "language": "python",
   "name": "python3"
  },
  "language_info": {
   "codemirror_mode": {
    "name": "ipython",
    "version": 3
   },
   "file_extension": ".py",
   "mimetype": "text/x-python",
   "name": "python",
   "nbconvert_exporter": "python",
   "pygments_lexer": "ipython3",
   "version": "3.6.7"
  }
 },
 "nbformat": 4,
 "nbformat_minor": 2
}
