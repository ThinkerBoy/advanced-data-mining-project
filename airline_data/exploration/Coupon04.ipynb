{
 "cells": [
  {
   "cell_type": "markdown",
   "metadata": {},
   "source": [
    "# Exploratory Data Analysis 4\n",
    "This notebook exports data suitable for input to pyHON. **Don't forget to kill the session at the end with `spark.stop()`!**"
   ]
  },
  {
   "cell_type": "code",
   "execution_count": 1,
   "metadata": {},
   "outputs": [],
   "source": [
    "import findspark\n",
    "findspark.init('/usr/hdp/current/spark2-client')\n",
    "\n",
    "from pyspark import SparkContext, SparkConf\n",
    "from pyspark.sql import SparkSession\n",
    "conf = (SparkConf().setMaster(\"yarn-client\").setAppName(\"AirlineDataAnalysis\")\n",
    "        .set(\"spark.yarn.queue\", \"eecs598w19\")\n",
    "        .set(\"spark.executor.memory\", \"2g\")\n",
    "        .set(\"spark.executor.instances\", \"4\")\n",
    "        .set(\"spark.driver.memory\", \"2g\")\n",
    "        .set(\"spark.shuffle.service.enabled\", \"true\")\n",
    "        .set(\"spark.dynamicAllocation.enabled\", \"true\")\n",
    "        .set(\"spark.dynamicAllocation.minExecutors\", \"1\")\n",
    "        )\n",
    "\n",
    "spark = SparkSession.builder.config(conf=conf).getOrCreate()"
   ]
  },
  {
   "cell_type": "code",
   "execution_count": 2,
   "metadata": {},
   "outputs": [],
   "source": [
    "import numpy as np\n",
    "import pandas as pd\n",
    "import matplotlib.pyplot as plt\n",
    "import signac\n",
    "from tqdm import tqdm\n",
    "from util import hdfs_fn\n",
    "\n",
    "# Show more columns so we can see everything\n",
    "pd.options.display.max_columns = 50\n",
    "\n",
    "project = signac.get_project()"
   ]
  },
  {
   "cell_type": "code",
   "execution_count": 3,
   "metadata": {},
   "outputs": [],
   "source": [
    "job = project.find_jobs({\"year\": 2011, \"quarter\": 1}).next()\n",
    "df = spark.read.csv(hdfs_fn(job, 'Coupon.csv'), header=True, inferSchema=True)"
   ]
  },
  {
   "cell_type": "code",
   "execution_count": 4,
   "metadata": {},
   "outputs": [
    {
     "data": {
      "text/plain": [
       "[('ItinID', 'bigint'),\n",
       " ('MktID', 'bigint'),\n",
       " ('SeqNum', 'int'),\n",
       " ('Coupons', 'int'),\n",
       " ('Year', 'int'),\n",
       " ('OriginAirportID', 'int'),\n",
       " ('OriginAirportSeqID', 'int'),\n",
       " ('OriginCityMarketID', 'int'),\n",
       " ('Quarter', 'int'),\n",
       " ('Origin', 'string'),\n",
       " ('OriginCountry', 'string'),\n",
       " ('OriginStateFips', 'int'),\n",
       " ('OriginState', 'string'),\n",
       " ('OriginStateName', 'string'),\n",
       " ('OriginWac', 'int'),\n",
       " ('DestAirportID', 'int'),\n",
       " ('DestAirportSeqID', 'int'),\n",
       " ('DestCityMarketID', 'int'),\n",
       " ('Dest', 'string'),\n",
       " ('DestCountry', 'string'),\n",
       " ('DestStateFips', 'int'),\n",
       " ('DestState', 'string'),\n",
       " ('DestStateName', 'string'),\n",
       " ('DestWac', 'int'),\n",
       " ('Break', 'string'),\n",
       " ('CouponType', 'string'),\n",
       " ('TkCarrier', 'string'),\n",
       " ('OpCarrier', 'string'),\n",
       " ('RPCarrier', 'string'),\n",
       " ('Passengers', 'double'),\n",
       " ('FareClass', 'string'),\n",
       " ('Distance', 'double'),\n",
       " ('DistanceGroup', 'int'),\n",
       " ('Gateway', 'double'),\n",
       " ('ItinGeoType', 'int'),\n",
       " ('CouponGeoType', 'int'),\n",
       " ('_c36', 'string')]"
      ]
     },
     "execution_count": 4,
     "metadata": {},
     "output_type": "execute_result"
    }
   ],
   "source": [
    "df.dtypes"
   ]
  },
  {
   "cell_type": "code",
   "execution_count": 5,
   "metadata": {},
   "outputs": [],
   "source": [
    "#spark.stop()"
   ]
  }
 ],
 "metadata": {
  "kernelspec": {
   "display_name": "Python 3",
   "language": "python",
   "name": "python3"
  },
  "language_info": {
   "codemirror_mode": {
    "name": "ipython",
    "version": 3
   },
   "file_extension": ".py",
   "mimetype": "text/x-python",
   "name": "python",
   "nbconvert_exporter": "python",
   "pygments_lexer": "ipython3",
   "version": "3.7.1"
  }
 },
 "nbformat": 4,
 "nbformat_minor": 2
}
