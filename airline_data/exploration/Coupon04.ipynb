{
 "cells": [
  {
   "cell_type": "markdown",
   "metadata": {},
   "source": [
    "# Exploratory Data Analysis 4\n",
    "This notebook exports data suitable for input to pyHON. **Don't forget to kill the session at the end with `spark.stop()`!**"
   ]
  },
  {
   "cell_type": "code",
   "execution_count": 1,
   "metadata": {},
   "outputs": [],
   "source": [
    "import findspark\n",
    "findspark.init('/usr/hdp/current/spark2-client')\n",
    "\n",
    "from pyspark import SparkContext, SparkConf\n",
    "from pyspark.sql import SparkSession\n",
    "conf = (SparkConf().setMaster(\"yarn-client\").setAppName(\"AirlineDataAnalysis\")\n",
    "        .set(\"spark.yarn.queue\", \"eecs598w19\")\n",
    "        .set(\"spark.executor.memory\", \"4g\")\n",
    "        .set(\"spark.executor.instances\", \"10\")\n",
    "        .set(\"spark.driver.memory\", \"4g\")\n",
    "        .set(\"spark.shuffle.service.enabled\", \"true\")\n",
    "        .set(\"spark.dynamicAllocation.enabled\", \"true\")\n",
    "        .set(\"spark.dynamicAllocation.minExecutors\", \"4\")\n",
    "        )\n",
    "\n",
    "spark = SparkSession.builder.config(conf=conf).getOrCreate()\n",
    "spark.sparkContext.setLogLevel(\"ERROR\")  # Hides irrelevant warnings caused by workers running default of Python2"
   ]
  },
  {
   "cell_type": "code",
   "execution_count": 2,
   "metadata": {},
   "outputs": [],
   "source": [
    "import signac\n",
    "\n",
    "from pyspark.sql.functions import collect_list, first, last\n",
    "from util import hdfs_fn\n",
    "\n",
    "project = signac.get_project()\n",
    "job = project.find_jobs({\"year\": 2011, \"quarter\": 1}).next()"
   ]
  },
  {
   "cell_type": "code",
   "execution_count": 3,
   "metadata": {},
   "outputs": [],
   "source": [
    "df = spark.read.csv(hdfs_fn(job, 'Coupon.csv'), header=True, inferSchema=True)"
   ]
  },
  {
   "cell_type": "code",
   "execution_count": 4,
   "metadata": {},
   "outputs": [],
   "source": [
    "col_names = ['ItinID', 'SeqNum', 'OriginAirportID', 'Origin', 'DestAirportID', 'Dest']\n",
    "df_network = df[col_names].repartition('ItinID').sort(['ItinID', 'SeqNum'])\n",
    "itins = df_network.groupby(['ItinID']).agg(first('OriginAirportID').alias('FirstAirportID'),\n",
    "                                           collect_list('OriginAirportID').alias('OriginAirportIDs'),\n",
    "                                           last('DestAirportID').alias('LastAirportID'))"
   ]
  },
  {
   "cell_type": "code",
   "execution_count": 5,
   "metadata": {},
   "outputs": [],
   "source": [
    "def make_line(row):\n",
    "    return '{} {} {} {} {}'.format(row.ItinID, row.FirstAirportID, ' '.join(map(str, row.OriginAirportIDs)), row.LastAirportID, row.LastAirportID)\n",
    "\n",
    "itins.rdd.map(make_line).saveAsTextFile(hdfs_fn(job, 'hon_itineraries.txt'))"
   ]
  },
  {
   "cell_type": "markdown",
   "metadata": {},
   "source": [
    "This leaves the data in a folder called `hon_itineraries.txt` with files called `part-00000`, `part-00001`, ..., which can be combined with `cat`.\n",
    "\n",
    "The files are space-separated, with the format `ItinID i i j k l l` for a sequence of flights from `i` to `j` to `k` to `l`.\n",
    "\n",
    "The start and end points are repeated to match the conventions described in the Supplementary Information of [Rosvall et al.](https://www.nature.com/articles/ncomms5630)"
   ]
  },
  {
   "cell_type": "code",
   "execution_count": 6,
   "metadata": {},
   "outputs": [],
   "source": [
    "spark.stop()"
   ]
  }
 ],
 "metadata": {
  "kernelspec": {
   "display_name": "Python 3",
   "language": "python",
   "name": "python3"
  },
  "language_info": {
   "codemirror_mode": {
    "name": "ipython",
    "version": 3
   },
   "file_extension": ".py",
   "mimetype": "text/x-python",
   "name": "python",
   "nbconvert_exporter": "python",
   "pygments_lexer": "ipython3",
   "version": "3.6.7"
  }
 },
 "nbformat": 4,
 "nbformat_minor": 2
}
