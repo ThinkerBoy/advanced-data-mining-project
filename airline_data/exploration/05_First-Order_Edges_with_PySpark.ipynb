{
 "cells": [
  {
   "cell_type": "markdown",
   "metadata": {},
   "source": [
    "# First-Order Edges with PySpark\n",
    "This notebook exports data for a first-order network. **Don't forget to kill the session at the end with `spark.stop()`!**"
   ]
  },
  {
   "cell_type": "code",
   "execution_count": 1,
   "metadata": {},
   "outputs": [],
   "source": [
    "import findspark\n",
    "findspark.init('/usr/hdp/current/spark2-client')\n",
    "\n",
    "from pyspark import SparkContext, SparkConf\n",
    "from pyspark.sql import SparkSession\n",
    "conf = (SparkConf().setMaster(\"yarn-client\").setAppName(\"1stOrderAirlineDataAnalysis\")\n",
    "        .set(\"spark.yarn.queue\", \"eecs598w19\")\n",
    "        .set(\"spark.executor.memory\", \"4g\")\n",
    "        .set(\"spark.executor.instances\", \"10\")\n",
    "        .set(\"spark.driver.memory\", \"4g\")\n",
    "        .set(\"spark.shuffle.service.enabled\", \"true\")\n",
    "        .set(\"spark.dynamicAllocation.enabled\", \"true\")\n",
    "        .set(\"spark.dynamicAllocation.minExecutors\", \"4\")\n",
    "        )\n",
    "\n",
    "spark = SparkSession.builder.config(conf=conf).getOrCreate()\n",
    "spark.sparkContext.setLogLevel(\"ERROR\")  # Hides irrelevant warnings caused by workers running default of Python2"
   ]
  },
  {
   "cell_type": "code",
   "execution_count": 2,
   "metadata": {},
   "outputs": [],
   "source": [
    "import signac\n",
    "from pyspark.sql.functions import count\n",
    "from util import hdfs_fn\n",
    "\n",
    "project = signac.get_project()\n",
    "job = project.find_jobs({\"year\": 2011, \"quarter\": 1}).next()"
   ]
  },
  {
   "cell_type": "code",
   "execution_count": 3,
   "metadata": {},
   "outputs": [],
   "source": [
    "df = spark.read.csv(hdfs_fn(job, 'Coupon.csv'), header=True, inferSchema=True)"
   ]
  },
  {
   "cell_type": "code",
   "execution_count": 4,
   "metadata": {},
   "outputs": [],
   "source": [
    "col_names = ['ItinID', 'OriginAirportID', 'DestAirportID']\n",
    "df_network = df[col_names].repartition('OriginAirportID')\n",
    "edges = df_network.groupby(['OriginAirportID', 'DestAirportID']).agg(count('ItinID').alias('weight'))"
   ]
  },
  {
   "cell_type": "code",
   "execution_count": 5,
   "metadata": {},
   "outputs": [],
   "source": [
    "def make_line(row):\n",
    "    return '{}\\t{}\\t{}'.format(row.OriginAirportID, row.DestAirportID, row.weight)\n",
    "\n",
    "edges.rdd.map(make_line).saveAsTextFile(hdfs_fn(job, 'edges.tsv'))"
   ]
  },
  {
   "cell_type": "markdown",
   "metadata": {},
   "source": [
    "This leaves the data in a folder called `edges.tsv` with files called part-00000, part-00001, ..., which can be combined with cat.\n",
    "\n",
    "The files are tab-separated, with columns `Origin Airport ID`, `Destination Airport ID`, `Number of Connections (weight)`"
   ]
  },
  {
   "cell_type": "code",
   "execution_count": 6,
   "metadata": {},
   "outputs": [],
   "source": [
    "spark.stop()"
   ]
  }
 ],
 "metadata": {
  "kernelspec": {
   "display_name": "Python 3",
   "language": "python",
   "name": "python3"
  },
  "language_info": {
   "codemirror_mode": {
    "name": "ipython",
    "version": 3
   },
   "file_extension": ".py",
   "mimetype": "text/x-python",
   "name": "python",
   "nbconvert_exporter": "python",
   "pygments_lexer": "ipython3",
   "version": "3.6.7"
  }
 },
 "nbformat": 4,
 "nbformat_minor": 2
}
